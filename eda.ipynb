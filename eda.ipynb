{
 "cells": [
  {
   "cell_type": "markdown",
   "metadata": {},
   "source": [
    "# Libraries"
   ]
  },
  {
   "cell_type": "code",
   "execution_count": 3,
   "metadata": {},
   "outputs": [],
   "source": [
    "import pandas as pd\n",
    "import numpy as np\n",
    "import matplotlib.pyplot as plt\n",
    "import seaborn as sns"
   ]
  },
  {
   "cell_type": "markdown",
   "metadata": {},
   "source": [
    "# FUNÇÕES DE AJUDA"
   ]
  },
  {
   "cell_type": "markdown",
   "metadata": {},
   "source": [
    "# Identificar Var Numéricas e Categóricas"
   ]
  },
  {
   "cell_type": "code",
   "execution_count": 4,
   "metadata": {},
   "outputs": [],
   "source": [
    "def get_feature_types(df, target_col='Tipo de Ataque'):\n",
    "    '''\n",
    "    Identifica Categorias Numéricas e Categóricas\n",
    "    '''\n",
    "    numeric_features = df.select_dtypes(include=[np.number]).columns.tolist()\n",
    "    categorical_features = df.select_dtypes(exclude=[np.number]).columns.tolist()\n",
    "\n",
    "    # Remove Variável Alvo\n",
    "    if target_col in numeric_features:\n",
    "        numeric_features.remove(target_col)\n",
    "    if target_col in categorical_features:\n",
    "        categorical_features.remove(target_col)\n",
    "\n",
    "    return numeric_features, categorical_features"
   ]
  },
  {
   "cell_type": "markdown",
   "metadata": {},
   "source": [
    "# Analizar Correlação Entre Features Numéricas"
   ]
  },
  {
   "cell_type": "code",
   "execution_count": 5,
   "metadata": {},
   "outputs": [],
   "source": [
    "def correlation_analysis(df, numeric_features, threshold=0.85):\n",
    "    '''\n",
    "    Analiza Correlação entre Features Numéricas\n",
    "\n",
    "    Threshold 0.85 para procurar correlações fortes\n",
    "    '''\n",
    "\n",
    "    corr_matrix = df[numeric_features].corr()\n",
    "\n",
    "    plt.figure(figsize=(20, 20))\n",
    "    sns.heatmap(corr_matrix, annot=False, cmap='coolwarm', center=0, linewidth= 0.5)\n",
    "\n",
    "    plt.title('Correlação entre Features - Heatmap')\n",
    "    plt.xticks(rotation=90)\n",
    "    plt.yticks(rotation=0)\n",
    "    plt.show()\n",
    "\n",
    "    threshold = threshold\n",
    "    high_corr = np.where(np.abs(corr_matrix) > threshold)\n",
    "    high_corr = [(corr_matrix.index[x], corr_matrix.columns[y], corr_matrix.iloc[x, y]) for x, y in zip(*high_corr) if x != y and x < y]\n",
    "    \n",
    "    return high_corr\n"
   ]
  },
  {
   "cell_type": "markdown",
   "metadata": {},
   "source": [
    "# Análise de Homogeneidade da Variância (Teste de Levene's)"
   ]
  },
  {
   "cell_type": "code",
   "execution_count": 10,
   "metadata": {},
   "outputs": [],
   "source": [
    "def analyze_variance_homogen(df, numeric_features, target_col='Tipo de Ataque'):\n",
    "    '''\n",
    "    Análise de Variância Homogénea\n",
    "    '''\n",
    "\n",
    "    results_levene = {}\n",
    "\n",
    "    for feature in numeric_features:\n",
    "        groups = [group[feature].dropna().values for name, group in df.groupby(target_col) if not group[feature].dropna().empty] \n",
    "\n",
    "        groups = [group for group in groups if len(group) > 0 and np.any(group != 0) and np.var(group) > 0]\n",
    "\n",
    "        if len(groups) < 2:\n",
    "            print(f\"Não existem grupos válidos para fazer o teste de Levene para a feature: {feature}\")\n",
    "            continue\n",
    "\n",
    "        stat_levene, p_value_levene = stats.levene(*groups)  \n",
    "        results_levene[feature] = {'Statistic': stat_levene, 'p-value': p_value_levene}  \n",
    "\n",
    "    return results_levene\n",
    "\n"
   ]
  },
  {
   "cell_type": "markdown",
   "metadata": {},
   "source": []
  }
 ],
 "metadata": {
  "kernelspec": {
   "display_name": "venv",
   "language": "python",
   "name": "python3"
  },
  "language_info": {
   "codemirror_mode": {
    "name": "ipython",
    "version": 3
   },
   "file_extension": ".py",
   "mimetype": "text/x-python",
   "name": "python",
   "nbconvert_exporter": "python",
   "pygments_lexer": "ipython3",
   "version": "3.13.2"
  }
 },
 "nbformat": 4,
 "nbformat_minor": 2
}
