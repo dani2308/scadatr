{
 "cells": [
  {
   "cell_type": "code",
   "execution_count": 13,
   "metadata": {},
   "outputs": [],
   "source": [
    "import pandas as pd\n",
    "from sklearn.model_selection import train_test_split\n",
    "from sklearn.preprocessing import StandardScaler\n",
    "from sklearn.ensemble import IsolationForest\n",
    "from sklearn.metrics import classification_report"
   ]
  },
  {
   "cell_type": "markdown",
   "metadata": {},
   "source": [
    "# Separação dos Dados em Treino e Teste"
   ]
  },
  {
   "cell_type": "code",
   "execution_count": 14,
   "metadata": {},
   "outputs": [],
   "source": [
    "df = pd.read_csv('cicids2017_cleaned.csv')\n",
    "\n",
    "# Separar features e labels\n",
    "X = df.drop('Attack Type', axis=1)\n",
    "y = df[\"Attack Type\"]\n",
    "\n",
    "# Separar Dados para treino\n",
    "X_normal = X[y == \"Normal Traffic\"]\n",
    "y_normal = y[y == \"Normal Traffic\"]\n",
    "\n",
    "# Separar Dados para teste\n",
    "X_misto = X\n",
    "y_misto = y\n",
    "\n",
    "# Separar uma parte dos dados para treino (80% treino, 20% teste)\n",
    "X_train, X_val, y_train, y_val = train_test_split(X_normal, y_normal, test_size=0.2, random_state=42)"
   ]
  },
  {
   "cell_type": "code",
   "execution_count": 15,
   "metadata": {},
   "outputs": [],
   "source": [
    "#Criar o normalizador\n",
    "scaler = StandardScaler()\n",
    "\n",
    "# Ajustar e transformar os dados de treino\n",
    "X_train_scaled = scaler.fit_transform(X_train)\n",
    "\n",
    "# Transformar os dados de teste\n",
    "X_val_scaled = scaler.transform(X_val)\n",
    "X_test_scaled = scaler.transform(X_misto)\n"
   ]
  },
  {
   "cell_type": "markdown",
   "metadata": {},
   "source": [
    "# Isolation Forest (Diferentes Valores)"
   ]
  },
  {
   "cell_type": "code",
   "execution_count": 16,
   "metadata": {},
   "outputs": [
    {
     "name": "stdout",
     "output_type": "stream",
     "text": [
      "\n",
      "=== contamination: 0.01 ===\n",
      "                precision    recall  f1-score   support\n",
      "\n",
      "        Attack     0.8241    0.2301    0.3597    425694\n",
      "Normal Traffic     0.8635    0.9900    0.9225   2095057\n",
      "\n",
      "      accuracy                         0.8617   2520751\n",
      "     macro avg     0.8438    0.6100    0.6411   2520751\n",
      "  weighted avg     0.8569    0.8617    0.8274   2520751\n",
      "\n",
      "\n",
      "=== contamination: 0.05 ===\n",
      "                precision    recall  f1-score   support\n",
      "\n",
      "        Attack     0.6783    0.5180    0.5874    425694\n",
      "Normal Traffic     0.9065    0.9501    0.9278   2095057\n",
      "\n",
      "      accuracy                         0.8771   2520751\n",
      "     macro avg     0.7924    0.7340    0.7576   2520751\n",
      "  weighted avg     0.8680    0.8771    0.8703   2520751\n",
      "\n",
      "\n",
      "=== contamination: 0.1 ===\n",
      "                precision    recall  f1-score   support\n",
      "\n",
      "        Attack     0.5479    0.5962    0.5710    425694\n",
      "Normal Traffic     0.9165    0.9000    0.9082   2095057\n",
      "\n",
      "      accuracy                         0.8487   2520751\n",
      "     macro avg     0.7322    0.7481    0.7396   2520751\n",
      "  weighted avg     0.8542    0.8487    0.8512   2520751\n",
      "\n",
      "\n",
      "=== contamination: 0.15 ===\n",
      "                precision    recall  f1-score   support\n",
      "\n",
      "        Attack     0.4481    0.5997    0.5129    425694\n",
      "Normal Traffic     0.9127    0.8499    0.8802   2095057\n",
      "\n",
      "      accuracy                         0.8077   2520751\n",
      "     macro avg     0.6804    0.7248    0.6966   2520751\n",
      "  weighted avg     0.8342    0.8077    0.8182   2520751\n",
      "\n",
      "\n",
      "=== contamination: 0.2 ===\n",
      "                precision    recall  f1-score   support\n",
      "\n",
      "        Attack     0.3805    0.6049    0.4672    425694\n",
      "Normal Traffic     0.9088    0.7999    0.8509   2095057\n",
      "\n",
      "      accuracy                         0.7670   2520751\n",
      "     macro avg     0.6447    0.7024    0.6590   2520751\n",
      "  weighted avg     0.8196    0.7670    0.7861   2520751\n",
      "\n"
     ]
    }
   ],
   "source": [
    "y_misto_binary = [\"Normal Traffic\" if y == \"Normal Traffic\" else \"Attack\" for y in y_misto]\n",
    "\n",
    "# Valores para contamination\n",
    "contamination_values = [0.01, 0.05, 0.1, 0.15, 0.2]\n",
    "\n",
    "for contamination in contamination_values:\n",
    "    print(f\"\\n=== contamination: {contamination} ===\")\n",
    "\n",
    "    # Criar e treinar o modelo Isolation Forest\n",
    "    isoForest = IsolationForest(contamination=contamination, random_state=42)\n",
    "    isoForest.fit(X_train_scaled)\n",
    "\n",
    "    # Previsão\n",
    "    y_pred = isoForest.predict(X_test_scaled)\n",
    "    y_pred_labels = [\"Attack\" if y == -1 else \"Normal Traffic\" for y in y_pred]\n",
    "\n",
    "    # Avaliar\n",
    "    print(classification_report(y_misto_binary, y_pred_labels, digits=4))\n",
    "\n"
   ]
  }
 ],
 "metadata": {
  "kernelspec": {
   "display_name": "venv",
   "language": "python",
   "name": "python3"
  },
  "language_info": {
   "codemirror_mode": {
    "name": "ipython",
    "version": 3
   },
   "file_extension": ".py",
   "mimetype": "text/x-python",
   "name": "python",
   "nbconvert_exporter": "python",
   "pygments_lexer": "ipython3",
   "version": "3.13.1"
  }
 },
 "nbformat": 4,
 "nbformat_minor": 2
}
