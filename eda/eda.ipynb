{
 "cells": [
  {
   "cell_type": "markdown",
   "metadata": {},
   "source": [
    "# Libraries"
   ]
  },
  {
   "cell_type": "code",
   "execution_count": 54,
   "metadata": {},
   "outputs": [],
   "source": [
    "import pandas as pd\n",
    "import numpy as np\n",
    "import matplotlib.pyplot as plt\n",
    "import seaborn as sns"
   ]
  },
  {
   "cell_type": "markdown",
   "metadata": {},
   "source": [
    "# Funções para Ajuda"
   ]
  },
  {
   "cell_type": "code",
   "execution_count": 55,
   "metadata": {},
   "outputs": [],
   "source": [
    "def get_feature_types(df, target_col='Tipo de Ataque'):\n",
    "    '''\n",
    "    Identifica Categorias Numéricas e Categóricas\n",
    "    '''\n",
    "    numeric_features = df.select_dtypes(include=[np.number]).columns.tolist()\n",
    "    categorical_features = df.select_dtypes(exclude=[np.number]).columns.tolist()\n",
    "\n",
    "    # Remove Variável Alvo\n",
    "    if target_col in numeric_features:\n",
    "        numeric_features.remove(target_col)\n",
    "    if target_col in categorical_features:\n",
    "        categorical_features.remove(target_col)\n",
    "\n",
    "    return numeric_features, categorical_features"
   ]
  },
  {
   "cell_type": "markdown",
   "metadata": {},
   "source": [
    "# Análise de Correlação"
   ]
  },
  {
   "cell_type": "code",
   "execution_count": 56,
   "metadata": {},
   "outputs": [],
   "source": [
    "def correlation_analysis(df, numeric_features, threshold=0.85):\n",
    "    '''\n",
    "    Analiza Correlação entre Features Numéricas\n",
    "\n",
    "    Threshold 0.85 para procurar correlações fortes\n",
    "    '''\n",
    "\n",
    "    corr_matrix = df[numeric_features].corr()\n",
    "\n",
    "    plt.figure(figsize=(20, 20))\n",
    "    sns.heatmap(corr_matrix, annot=False, cmap='coolwarm', center=0, linewidth= 0.5)\n",
    "\n",
    "    plt.title('Correlação entre Features - Heatmap')\n",
    "    plt.xticks(rotation=90)\n",
    "    plt.yticks(rotation=0)\n",
    "    plt.show()\n",
    "\n",
    "    threshold = threshold\n",
    "    high_corr = np.where(np.abs(corr_matrix) > threshold)\n",
    "    high_corr = [(corr_matrix.index[x], corr_matrix.columns[y], corr_matrix.iloc[x, y]) for x, y in zip(*high_corr) if x != y and x < y]\n",
    "    \n",
    "    return high_corr\n"
   ]
  }
 ],
 "metadata": {
  "language_info": {
   "name": "python"
  }
 },
 "nbformat": 4,
 "nbformat_minor": 2
}
